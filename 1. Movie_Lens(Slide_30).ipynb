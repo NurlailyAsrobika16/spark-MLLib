{
  "nbformat": 4,
  "nbformat_minor": 0,
  "metadata": {
    "colab": {
      "provenance": [],
      "gpuType": "T4"
    },
    "kernelspec": {
      "name": "python3",
      "display_name": "Python 3"
    },
    "language_info": {
      "name": "python"
    },
    "accelerator": "GPU"
  },
  "cells": [
    {
      "cell_type": "code",
      "source": [
        "# Connect Google Drive Untuk Ambil Data\n",
        "from google.colab import drive\n",
        "drive.mount('/content/drive')"
      ],
      "metadata": {
        "colab": {
          "base_uri": "https://localhost:8080/"
        },
        "id": "M7MRSD5MJQYa",
        "outputId": "8b9d1ced-4067-403b-9ccc-51380e5c1185"
      },
      "execution_count": 1,
      "outputs": [
        {
          "output_type": "stream",
          "name": "stdout",
          "text": [
            "Mounted at /content/drive\n"
          ]
        }
      ]
    },
    {
      "cell_type": "code",
      "source": [
        "!pip install pyspark"
      ],
      "metadata": {
        "colab": {
          "base_uri": "https://localhost:8080/"
        },
        "id": "k0cbLXaSLc-R",
        "outputId": "fda3c975-0e4d-4fa1-fc47-160c932e8b18"
      },
      "execution_count": 2,
      "outputs": [
        {
          "output_type": "stream",
          "name": "stdout",
          "text": [
            "Looking in indexes: https://pypi.org/simple, https://us-python.pkg.dev/colab-wheels/public/simple/\n",
            "Collecting pyspark\n",
            "  Downloading pyspark-3.4.0.tar.gz (310.8 MB)\n",
            "\u001b[2K     \u001b[90m━━━━━━━━━━━━━━━━━━━━━━━━━━━━━━━━━━━━━━━\u001b[0m \u001b[32m310.8/310.8 MB\u001b[0m \u001b[31m4.6 MB/s\u001b[0m eta \u001b[36m0:00:00\u001b[0m\n",
            "\u001b[?25h  Preparing metadata (setup.py) ... \u001b[?25l\u001b[?25hdone\n",
            "Requirement already satisfied: py4j==0.10.9.7 in /usr/local/lib/python3.10/dist-packages (from pyspark) (0.10.9.7)\n",
            "Building wheels for collected packages: pyspark\n",
            "  Building wheel for pyspark (setup.py) ... \u001b[?25l\u001b[?25hdone\n",
            "  Created wheel for pyspark: filename=pyspark-3.4.0-py2.py3-none-any.whl size=311317130 sha256=67b89575f65b93e3bf94394296ff7797a9a36d9be99a1a94b237f96df9f76b88\n",
            "  Stored in directory: /root/.cache/pip/wheels/7b/1b/4b/3363a1d04368e7ff0d408e57ff57966fcdf00583774e761327\n",
            "Successfully built pyspark\n",
            "Installing collected packages: pyspark\n",
            "Successfully installed pyspark-3.4.0\n"
          ]
        }
      ]
    },
    {
      "cell_type": "code",
      "source": [
        "# Import Library\n",
        "from pyspark.sql import SparkSession\n",
        "from pyspark.sql.functions import col\n",
        "from pyspark.ml.recommendation import ALS\n",
        "\n",
        "spark = SparkSession.builder.appName(\"Movie Lens\").getOrCreate()"
      ],
      "metadata": {
        "id": "6_6RDtF9KUNa"
      },
      "execution_count": 3,
      "outputs": []
    },
    {
      "cell_type": "code",
      "source": [
        "# Parse String Menjadi Objek Rating\n",
        "def parseRating(str):\n",
        "    fields = str.split(\"::\")\n",
        "    assert len(fields) == 4\n",
        "    return (int(fields[0]), int(fields[1]), float(fields[2]), int(fields[3]))\n"
      ],
      "metadata": {
        "id": "0OBm4Xi_t8sV"
      },
      "execution_count": 15,
      "outputs": []
    },
    {
      "cell_type": "code",
      "source": [
        "raw = spark.read.text(\"/content/drive/MyDrive/Colab Notebooks/SPARK/ratings.dat\").rdd.map(lambda x: x[0])\n",
        "ratings = raw.map(parseRating).toDF([\"userId\", \"movieId\", \"rating\", \"timestamp\"])\n",
        "ratings.show(5)"
      ],
      "metadata": {
        "colab": {
          "base_uri": "https://localhost:8080/"
        },
        "id": "Wz7R5nj3Kbq4",
        "outputId": "09f13e32-abd7-496a-ff45-cf7c9a15b3f0"
      },
      "execution_count": 16,
      "outputs": [
        {
          "output_type": "stream",
          "name": "stdout",
          "text": [
            "+------+-------+------+---------+\n",
            "|userId|movieId|rating|timestamp|\n",
            "+------+-------+------+---------+\n",
            "|     1|   1193|   5.0|978300760|\n",
            "|     1|    661|   3.0|978302109|\n",
            "|     1|    914|   3.0|978301968|\n",
            "|     1|   3408|   4.0|978300275|\n",
            "|     1|   2355|   5.0|978824291|\n",
            "+------+-------+------+---------+\n",
            "only showing top 5 rows\n",
            "\n"
          ]
        }
      ]
    },
    {
      "cell_type": "code",
      "source": [
        "# Data Training 80% dan Test 20%\n",
        "training, test = ratings.randomSplit([0.8, 0.2])"
      ],
      "metadata": {
        "id": "T0eT5Hb1Kdmy"
      },
      "execution_count": 17,
      "outputs": []
    },
    {
      "cell_type": "code",
      "source": [
        "# Membuat Model\n",
        "als = ALS(maxIter=5, regParam=0.01, userCol=\"userId\", itemCol=\"movieId\", ratingCol=\"rating\")\n",
        "model = als.fit(training)\n",
        "model.save(\"mymodel\")"
      ],
      "metadata": {
        "id": "SURPNuiXKfnB"
      },
      "execution_count": 18,
      "outputs": []
    },
    {
      "cell_type": "code",
      "source": [
        "# Prediksi Data\n",
        "predictions = model.transform(test)\n",
        "mse = predictions.withColumn(\"diff\", col(\"rating\") - col(\"prediction\")).select((col(\"diff\") ** 2).alias(\"squared_diff\")).filter(~col(\"squared_diff\").isNull()).agg({\"squared_diff\": \"sum\"}).collect()[0][0]\n",
        "print(\"Mean Squared Error:\", mse)\n",
        "\n",
        "predictions.show(10)"
      ],
      "metadata": {
        "colab": {
          "base_uri": "https://localhost:8080/"
        },
        "id": "htLo4nK3KhLy",
        "outputId": "f7760dae-1790-4614-80b9-7217566942ad"
      },
      "execution_count": 19,
      "outputs": [
        {
          "output_type": "stream",
          "name": "stdout",
          "text": [
            "Mean Squared Error: nan\n",
            "+------+-------+------+---------+----------+\n",
            "|userId|movieId|rating|timestamp|prediction|\n",
            "+------+-------+------+---------+----------+\n",
            "|     1|    594|   4.0|978302268|  4.369921|\n",
            "|     1|    595|   5.0|978824268| 3.9790118|\n",
            "|     1|    720|   3.0|978300760| 3.9435213|\n",
            "|     1|    783|   4.0|978824291| 4.8502617|\n",
            "|     1|    938|   4.0|978301752| 3.3182936|\n",
            "|     1|   1022|   5.0|978300055| 4.1811028|\n",
            "|     1|   1907|   4.0|978824330| 3.4290638|\n",
            "|     1|   3114|   4.0|978302174| 4.3886657|\n",
            "|     2|    110|   5.0|978298625| 4.3349752|\n",
            "|     2|    163|   4.0|978299809| 3.1953938|\n",
            "+------+-------+------+---------+----------+\n",
            "only showing top 10 rows\n",
            "\n"
          ]
        }
      ]
    },
    {
      "cell_type": "code",
      "source": [
        "# Menyimpan Hasil Prediksi\n",
        "predictions.write.format(\"csv\").save(\"ml-predictions.csv\")"
      ],
      "metadata": {
        "id": "Ocb1NZPbKj55"
      },
      "execution_count": 20,
      "outputs": []
    },
    {
      "cell_type": "code",
      "source": [],
      "metadata": {
        "id": "mPzM4XvPN2Gt"
      },
      "execution_count": null,
      "outputs": []
    }
  ]
}