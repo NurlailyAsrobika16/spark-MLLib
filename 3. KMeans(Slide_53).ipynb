{
  "cells": [
    {
      "cell_type": "code",
      "execution_count": 1,
      "metadata": {
        "colab": {
          "base_uri": "https://localhost:8080/"
        },
        "id": "M7MRSD5MJQYa",
        "outputId": "b8351986-5d69-4d98-b887-1a32a0cf292a"
      },
      "outputs": [
        {
          "output_type": "stream",
          "name": "stdout",
          "text": [
            "Mounted at /content/drive\n"
          ]
        }
      ],
      "source": [
        "from google.colab import drive\n",
        "drive.mount('/content/drive')"
      ]
    },
    {
      "cell_type": "code",
      "execution_count": 2,
      "metadata": {
        "colab": {
          "base_uri": "https://localhost:8080/"
        },
        "id": "k0cbLXaSLc-R",
        "outputId": "7722ea76-3608-40c3-962f-caa24a7868b7"
      },
      "outputs": [
        {
          "output_type": "stream",
          "name": "stdout",
          "text": [
            "Looking in indexes: https://pypi.org/simple, https://us-python.pkg.dev/colab-wheels/public/simple/\n",
            "Collecting pyspark\n",
            "  Downloading pyspark-3.4.0.tar.gz (310.8 MB)\n",
            "\u001b[2K     \u001b[90m━━━━━━━━━━━━━━━━━━━━━━━━━━━━━━━━━━━━━━━\u001b[0m \u001b[32m310.8/310.8 MB\u001b[0m \u001b[31m4.6 MB/s\u001b[0m eta \u001b[36m0:00:00\u001b[0m\n",
            "\u001b[?25h  Preparing metadata (setup.py) ... \u001b[?25l\u001b[?25hdone\n",
            "Requirement already satisfied: py4j==0.10.9.7 in /usr/local/lib/python3.10/dist-packages (from pyspark) (0.10.9.7)\n",
            "Building wheels for collected packages: pyspark\n",
            "  Building wheel for pyspark (setup.py) ... \u001b[?25l\u001b[?25hdone\n",
            "  Created wheel for pyspark: filename=pyspark-3.4.0-py2.py3-none-any.whl size=311317130 sha256=5c0c3803957b11528a865b46a31ef3a34bea29c6cdd62e3afa08b002015a37cf\n",
            "  Stored in directory: /root/.cache/pip/wheels/7b/1b/4b/3363a1d04368e7ff0d408e57ff57966fcdf00583774e761327\n",
            "Successfully built pyspark\n",
            "Installing collected packages: pyspark\n",
            "Successfully installed pyspark-3.4.0\n"
          ]
        }
      ],
      "source": [
        "# Install PySpark\n",
        "!pip install pyspark"
      ]
    },
    {
      "cell_type": "code",
      "execution_count": 3,
      "metadata": {
        "id": "6_6RDtF9KUNa"
      },
      "outputs": [],
      "source": [
        "# Import Library\n",
        "from pyspark.sql import SparkSession\n",
        "from pyspark.mllib.clustering import KMeans, KMeansModel\n",
        "from numpy import array\n",
        "from math import sqrt\n",
        "\n",
        "spark = SparkSession.builder.appName(\"Movie Lens\").getOrCreate()\n",
        "sc = spark.sparkContext"
      ]
    },
    {
      "cell_type": "code",
      "execution_count": 6,
      "metadata": {
        "id": "6k-AXtqJPcFg"
      },
      "outputs": [],
      "source": [
        "# Load and parse the data\n",
        "data = sc.textFile(\"/content/drive/MyDrive/Colab Notebooks/SPARK/kmeans_data.txt\")\n",
        "parsedData = data.map(lambda line: array([float(x) for x in line.split(' ')]))"
      ]
    },
    {
      "cell_type": "code",
      "source": [
        "# Build the model (cluster the data)\n",
        "clusters = KMeans.train(parsedData, k=2, maxIterations=10, initializationMode=\"random\")"
      ],
      "metadata": {
        "id": "MCFfmQKCtgTm"
      },
      "execution_count": 7,
      "outputs": []
    },
    {
      "cell_type": "code",
      "source": [
        "# Evaluate clustering by computing Within Set Sum of Squared Errors\n",
        "def error(point):\n",
        "    center = clusters.centers[clusters.predict(point)]\n",
        "    return sqrt(sum([x**2 for x in (point - center)]))"
      ],
      "metadata": {
        "id": "klyz0gY-vYfv"
      },
      "execution_count": 8,
      "outputs": []
    },
    {
      "cell_type": "code",
      "source": [
        "WSSSE = parsedData.map(lambda point: error(point)).reduce(lambda x, y: x + y)\n",
        "print(\"Within Set Sum of Squared Error = \" + str(WSSSE))"
      ],
      "metadata": {
        "colab": {
          "base_uri": "https://localhost:8080/"
        },
        "id": "eSvhk1xtvaXh",
        "outputId": "e3e2bd5b-3f07-4000-a856-65821f7e90ae"
      },
      "execution_count": 9,
      "outputs": [
        {
          "output_type": "stream",
          "name": "stdout",
          "text": [
            "Within Set Sum of Squared Error = 0.6928203230275529\n"
          ]
        }
      ]
    },
    {
      "cell_type": "code",
      "source": [],
      "metadata": {
        "id": "1JUAtUd3wh1w"
      },
      "execution_count": null,
      "outputs": []
    }
  ],
  "metadata": {
    "colab": {
      "provenance": []
    },
    "kernelspec": {
      "display_name": "Python 3",
      "name": "python3"
    },
    "language_info": {
      "name": "python"
    }
  },
  "nbformat": 4,
  "nbformat_minor": 0
}